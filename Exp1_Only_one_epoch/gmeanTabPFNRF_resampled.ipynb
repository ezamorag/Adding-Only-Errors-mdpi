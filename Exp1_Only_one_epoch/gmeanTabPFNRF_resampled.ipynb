{
 "cells": [
  {
   "cell_type": "code",
   "execution_count": 1,
   "id": "irspI5HT0HJL",
   "metadata": {
    "colab": {
     "base_uri": "https://localhost:8080/"
    },
    "collapsed": true,
    "id": "irspI5HT0HJL",
    "jupyter": {
     "outputs_hidden": true
    },
    "outputId": "d974f78a-5aaf-4e48-b5ce-b227bffc6b97"
   },
   "outputs": [
    {
     "name": "stdout",
     "output_type": "stream",
     "text": [
      "Requirement already satisfied: scikit-learn in /usr/local/lib/python3.10/dist-packages (from -r requirements.txt (line 1)) (1.6.0)\n",
      "Requirement already satisfied: joblib in /usr/local/lib/python3.10/dist-packages (from -r requirements.txt (line 2)) (1.4.2)\n",
      "Requirement already satisfied: mlxtend in /usr/local/lib/python3.10/dist-packages (from -r requirements.txt (line 3)) (0.23.3)\n",
      "Requirement already satisfied: matplotlib in /usr/local/lib/python3.10/dist-packages (from -r requirements.txt (line 4)) (3.10.0)\n",
      "Requirement already satisfied: tabpfn in /usr/local/lib/python3.10/dist-packages (from -r requirements.txt (line 5)) (2.0.9)\n",
      "Requirement already satisfied: xgboost in /usr/local/lib/python3.10/dist-packages (from -r requirements.txt (line 6)) (2.1.3)\n",
      "Requirement already satisfied: catboost in /usr/local/lib/python3.10/dist-packages (from -r requirements.txt (line 7)) (1.2.8)\n",
      "Requirement already satisfied: numpy>=1.19.5 in /usr/local/lib/python3.10/dist-packages (from scikit-learn->-r requirements.txt (line 1)) (1.26.4)\n",
      "Requirement already satisfied: scipy>=1.6.0 in /usr/local/lib/python3.10/dist-packages (from scikit-learn->-r requirements.txt (line 1)) (1.13.1)\n",
      "Requirement already satisfied: threadpoolctl>=3.1.0 in /usr/local/lib/python3.10/dist-packages (from scikit-learn->-r requirements.txt (line 1)) (3.5.0)\n",
      "Requirement already satisfied: pandas>=0.24.2 in /usr/local/lib/python3.10/dist-packages (from mlxtend->-r requirements.txt (line 3)) (2.2.2)\n",
      "Requirement already satisfied: contourpy>=1.0.1 in /usr/local/lib/python3.10/dist-packages (from matplotlib->-r requirements.txt (line 4)) (1.3.1)\n",
      "Requirement already satisfied: cycler>=0.10 in /usr/local/lib/python3.10/dist-packages (from matplotlib->-r requirements.txt (line 4)) (0.12.1)\n",
      "Requirement already satisfied: fonttools>=4.22.0 in /usr/local/lib/python3.10/dist-packages (from matplotlib->-r requirements.txt (line 4)) (4.55.3)\n",
      "Requirement already satisfied: kiwisolver>=1.3.1 in /usr/local/lib/python3.10/dist-packages (from matplotlib->-r requirements.txt (line 4)) (1.4.8)\n",
      "Requirement already satisfied: packaging>=20.0 in /usr/local/lib/python3.10/dist-packages (from matplotlib->-r requirements.txt (line 4)) (24.2)\n",
      "Requirement already satisfied: pillow>=8 in /usr/local/lib/python3.10/dist-packages (from matplotlib->-r requirements.txt (line 4)) (11.1.0)\n",
      "Requirement already satisfied: pyparsing>=2.3.1 in /usr/local/lib/python3.10/dist-packages (from matplotlib->-r requirements.txt (line 4)) (3.2.1)\n",
      "Requirement already satisfied: python-dateutil>=2.7 in /usr/local/lib/python3.10/dist-packages (from matplotlib->-r requirements.txt (line 4)) (2.8.2)\n",
      "Requirement already satisfied: torch<3,>=2.1 in /usr/local/lib/python3.10/dist-packages (from tabpfn->-r requirements.txt (line 5)) (2.5.1+cu121)\n",
      "Requirement already satisfied: typing_extensions>=4.4.0 in /usr/local/lib/python3.10/dist-packages (from tabpfn->-r requirements.txt (line 5)) (4.12.2)\n",
      "Requirement already satisfied: einops<0.9,>=0.2.0 in /usr/local/lib/python3.10/dist-packages (from tabpfn->-r requirements.txt (line 5)) (0.8.0)\n",
      "Requirement already satisfied: huggingface-hub<1,>=0.0.1 in /usr/local/lib/python3.10/dist-packages (from tabpfn->-r requirements.txt (line 5)) (0.27.1)\n",
      "Requirement already satisfied: nvidia-nccl-cu12 in /usr/local/lib/python3.10/dist-packages (from xgboost->-r requirements.txt (line 6)) (2.24.3)\n",
      "Requirement already satisfied: graphviz in /usr/local/lib/python3.10/dist-packages (from catboost->-r requirements.txt (line 7)) (0.20.3)\n",
      "Requirement already satisfied: plotly in /usr/local/lib/python3.10/dist-packages (from catboost->-r requirements.txt (line 7)) (5.24.1)\n",
      "Requirement already satisfied: six in /usr/local/lib/python3.10/dist-packages (from catboost->-r requirements.txt (line 7)) (1.17.0)\n",
      "Requirement already satisfied: filelock in /usr/local/lib/python3.10/dist-packages (from huggingface-hub<1,>=0.0.1->tabpfn->-r requirements.txt (line 5)) (3.16.1)\n",
      "Requirement already satisfied: fsspec>=2023.5.0 in /usr/local/lib/python3.10/dist-packages (from huggingface-hub<1,>=0.0.1->tabpfn->-r requirements.txt (line 5)) (2024.10.0)\n",
      "Requirement already satisfied: pyyaml>=5.1 in /usr/local/lib/python3.10/dist-packages (from huggingface-hub<1,>=0.0.1->tabpfn->-r requirements.txt (line 5)) (6.0.2)\n",
      "Requirement already satisfied: requests in /usr/local/lib/python3.10/dist-packages (from huggingface-hub<1,>=0.0.1->tabpfn->-r requirements.txt (line 5)) (2.32.3)\n",
      "Requirement already satisfied: tqdm>=4.42.1 in /usr/local/lib/python3.10/dist-packages (from huggingface-hub<1,>=0.0.1->tabpfn->-r requirements.txt (line 5)) (4.67.1)\n",
      "Requirement already satisfied: pytz>=2020.1 in /usr/local/lib/python3.10/dist-packages (from pandas>=0.24.2->mlxtend->-r requirements.txt (line 3)) (2024.2)\n",
      "Requirement already satisfied: tzdata>=2022.7 in /usr/local/lib/python3.10/dist-packages (from pandas>=0.24.2->mlxtend->-r requirements.txt (line 3)) (2024.2)\n",
      "Requirement already satisfied: networkx in /usr/local/lib/python3.10/dist-packages (from torch<3,>=2.1->tabpfn->-r requirements.txt (line 5)) (3.4.2)\n",
      "Requirement already satisfied: jinja2 in /usr/local/lib/python3.10/dist-packages (from torch<3,>=2.1->tabpfn->-r requirements.txt (line 5)) (3.1.5)\n",
      "Requirement already satisfied: sympy==1.13.1 in /usr/local/lib/python3.10/dist-packages (from torch<3,>=2.1->tabpfn->-r requirements.txt (line 5)) (1.13.1)\n",
      "Requirement already satisfied: mpmath<1.4,>=1.1.0 in /usr/local/lib/python3.10/dist-packages (from sympy==1.13.1->torch<3,>=2.1->tabpfn->-r requirements.txt (line 5)) (1.3.0)\n",
      "Requirement already satisfied: tenacity>=6.2.0 in /usr/local/lib/python3.10/dist-packages (from plotly->catboost->-r requirements.txt (line 7)) (9.0.0)\n",
      "Requirement already satisfied: MarkupSafe>=2.0 in /usr/local/lib/python3.10/dist-packages (from jinja2->torch<3,>=2.1->tabpfn->-r requirements.txt (line 5)) (3.0.2)\n",
      "Requirement already satisfied: charset-normalizer<4,>=2 in /usr/local/lib/python3.10/dist-packages (from requests->huggingface-hub<1,>=0.0.1->tabpfn->-r requirements.txt (line 5)) (3.4.1)\n",
      "Requirement already satisfied: idna<4,>=2.5 in /usr/local/lib/python3.10/dist-packages (from requests->huggingface-hub<1,>=0.0.1->tabpfn->-r requirements.txt (line 5)) (3.10)\n",
      "Requirement already satisfied: urllib3<3,>=1.21.1 in /usr/local/lib/python3.10/dist-packages (from requests->huggingface-hub<1,>=0.0.1->tabpfn->-r requirements.txt (line 5)) (2.3.0)\n",
      "Requirement already satisfied: certifi>=2017.4.17 in /usr/local/lib/python3.10/dist-packages (from requests->huggingface-hub<1,>=0.0.1->tabpfn->-r requirements.txt (line 5)) (2024.12.14)\n"
     ]
    }
   ],
   "source": [
    "!pip install -r requirements.txt"
   ]
  },
  {
   "cell_type": "code",
   "execution_count": 2,
   "id": "0eaf6618",
   "metadata": {
    "id": "0eaf6618"
   },
   "outputs": [],
   "source": [
    "import matplotlib.pyplot as plt\n",
    "\n",
    "def eda(Xt, Yt, Xtest, Ytest):\n",
    "    print(Xt.shape, Yt.shape)\n",
    "    print(Xtest.shape, Ytest.shape)\n",
    "\n",
    "    print(Xt.dtype, Yt.dtype)\n",
    "    print(Xtest.dtype, Ytest.dtype)\n",
    "\n",
    "    plt.figure(figsize=(7,2))\n",
    "    plt.subplot(121)\n",
    "    plt.hist(Yt)\n",
    "    plt.subplot(122)\n",
    "    plt.hist(Ytest)\n",
    "    plt.show()\n",
    "\n",
    "    print('clase, Ytest/Yt, Nt, Ntest')\n",
    "    for i in range(5):\n",
    "        strain, stest = (Yt == i).sum(), (Ytest == i).sum()\n",
    "        p = round(stest/strain, 4)\n",
    "        print(i, p, strain, stest)\n",
    "\n",
    "    print()\n",
    "    print('statistics')\n",
    "    print(Xt.mean(), Xt.std(), Xt.min(), Xt.max())\n",
    "    print(Xtest.mean(), Xtest.std(), Xtest.min(), Xtest.max())\n",
    "\n",
    "import sklearn as sk\n",
    "from mlxtend.evaluate import accuracy_score\n",
    "\n",
    "def evaluation(classifier, Ytest, Ypred, tree=False):\n",
    "    std_acc = accuracy_score(Ytest, Ypred)\n",
    "    avg_acc = accuracy_score(Ytest, Ypred, method='average')\n",
    "    bin_acc0 = accuracy_score(Ytest, Ypred, method='binary', pos_label=0)\n",
    "    bin_acc1 = accuracy_score(Ytest, Ypred, method='binary', pos_label=1)\n",
    "    bin_acc2 = accuracy_score(Ytest, Ypred, method='binary', pos_label=2)\n",
    "    bin_acc3 = accuracy_score(Ytest, Ypred, method='binary', pos_label=3)\n",
    "    bin_acc4 = accuracy_score(Ytest, Ypred, method='binary', pos_label=4)\n",
    "    class_precision = sk.metrics.precision_score (Ytest, Ypred, average = None)\n",
    "    recall = sk.metrics.recall_score(Ytest, Ypred, average= None)\n",
    "    f1macro = sk.metrics.f1_score(Ytest, Ypred, average=\"macro\")\n",
    "\n",
    "    print(f'f1-macro:                   {f1macro:.4f}')\n",
    "    print(f'Standard accuracy:          {std_acc:.4f}')\n",
    "    print(f'Average per-class accuracy: {avg_acc:.4f}')\n",
    "    print ()\n",
    "    print(f'Normal accuracy: {bin_acc0:.4f}')\n",
    "    print(f'DoS accuracy:    {bin_acc1:.4f}')\n",
    "    print(f'Probe accuracy:  {bin_acc2:.4f}')\n",
    "    print(f'R2L accuracy:    {bin_acc3:.4f}')\n",
    "    print(f'U2R accuracy:    {bin_acc4:.4f}')\n",
    "    print()\n",
    "    print(f\"Normal Precision: {class_precision[0]:.4f}\")\n",
    "    print(f\"DoS Precision:    {class_precision[1]:.4f}\")\n",
    "    print(f\"Probe Precision:  {class_precision[2]:.4f}\")\n",
    "    print(f\"R2L Precision:    {class_precision[3]:.4f}\")\n",
    "    print(f\"U2R Precision:    {class_precision[4]:.4f}\")\n",
    "    print()\n",
    "    print(f\"Normal Recall: {recall[0]:.4f}\")\n",
    "    print(f\"DoS Recall:    {recall[1]:.4f}\")\n",
    "    print(f\"Probe Recall:  {recall[2]:.4f}\")\n",
    "    print(f\"R2L Recall:    {recall[3]:.4f}\")\n",
    "    print(f\"U2R Recall:    {recall[4]:.4f}\")\n",
    "\n",
    "    confusion_matrix = sk.metrics.confusion_matrix(Ytest, Ypred)\n",
    "    cm_display = sk.metrics.ConfusionMatrixDisplay(confusion_matrix = confusion_matrix)\n",
    "    cm_display.plot()\n",
    "    plt.show()\n",
    "\n",
    "    if tree:\n",
    "        sk.tree.plot_tree(classifier, fontsize=1)\n",
    "    return None"
   ]
  },
  {
   "cell_type": "markdown",
   "id": "f9cb4e0c",
   "metadata": {
    "id": "f9cb4e0c"
   },
   "source": [
    "### Resampled Split"
   ]
  },
  {
   "cell_type": "code",
   "execution_count": 3,
   "id": "2b6e6118",
   "metadata": {
    "colab": {
     "base_uri": "https://localhost:8080/",
     "height": 457
    },
    "id": "2b6e6118",
    "outputId": "1600a4af-74ae-4b95-d594-cf0203445efa"
   },
   "outputs": [
    {
     "name": "stdout",
     "output_type": "stream",
     "text": [
      "(126239, 122) (126239,)\n",
      "(22278, 122) (22278,)\n",
      "float64 float64\n",
      "float64 float64\n"
     ]
    },
    {
     "data": {
      "image/png": "[encoded data removed]",
      "text/plain": [
       "<Figure size 700x200 with 2 Axes>"
      ]
     },
     "metadata": {},
     "output_type": "display_data"
    },
    {
     "name": "stdout",
     "output_type": "stream",
     "text": [
      "clase, Ytest/Yt, Nt, Ntest\n",
      "0 0.1759 65529 11525\n",
      "1 0.1782 45313 8074\n",
      "2 0.1745 11986 2091\n",
      "3 0.1719 3311 569\n",
      "4 0.19 100 19\n",
      "\n",
      "statistics\n",
      "0.06622127810179457 0.24043281002177225 0.0 1.0000000000000002\n",
      "0.06630302044916145 0.2405701021576793 0.0 1.0\n"
     ]
    }
   ],
   "source": [
    "import numpy as np\n",
    "from sklearn.utils import shuffle\n",
    "\n",
    "dsname = \"normal_attacks_resampled\"\n",
    "data = np.load(\"datasets/dataset_2.npz\")\n",
    "Xt, Yt = shuffle(data[\"X_train\"], data[\"Y_train\"], random_state=0)\n",
    "Xtest = data[\"X_test\"]\n",
    "Ytest = data[\"Y_test\"]\n",
    "\n",
    "eda(Xt, Yt, Xtest, Ytest)"
   ]
  },
  {
   "cell_type": "code",
   "execution_count": 6,
   "id": "296b0b96",
   "metadata": {
    "id": "296b0b96"
   },
   "outputs": [],
   "source": [
    "### Methods to reduce dataset size\n",
    "import torch\n",
    "\n",
    "def rss(Xtrain, Ytrain, size, clf):\n",
    "    \"\"\" Random Selection Strategy \"\"\"\n",
    "    indices = np.random.choice(len(Xtrain), size=size, replace=False)\n",
    "    x, y = Xtrain[indices], Ytrain[indices]\n",
    "    clf.fit(x, y)\n",
    "    return x, y, clf\n",
    "\n",
    "def rss_xgboost(Xtrain, Ytrain, size, clf):\n",
    "    \"\"\" Random Selection Strategy \"\"\"\n",
    "    Xt_shuffled, Yt_shuffled = shuffle(Xtrain, Ytrain)\n",
    "    _, unique_indices = np.unique(Yt_shuffled, return_index=True)\n",
    "    x0, y0 = Xt_shuffled[unique_indices], Yt_shuffled[unique_indices]\n",
    "\n",
    "    indices = np.random.choice(len(Xtrain), size=size, replace=False)\n",
    "    x = np.concatenate([x0, Xtrain[indices]])\n",
    "    y = np.concatenate([y0, Ytrain[indices]])\n",
    "    clf.fit(x, y)\n",
    "    return x, y, clf\n",
    "\n",
    "def addOnlyErrors(Xtrain, Ytrain, batch_size, n_epochs, clf):\n",
    "    \"\"\" Selection strategy based on adding only errors \"\"\"\n",
    "    # Initialization\n",
    "    Xt_shuffled, Yt_shuffled = shuffle(Xtrain, Ytrain)\n",
    "    _, unique_indices = np.unique(Yt_shuffled, return_index=True)\n",
    "    x, y = Xt_shuffled[unique_indices], Yt_shuffled[unique_indices]\n",
    "    clf.fit(x, y)\n",
    "    for _ in range(n_epochs):\n",
    "        torch.cuda.empty_cache()\n",
    "        Xt_shuffled, Yt_shuffled = shuffle(Xtrain, Ytrain)\n",
    "        for i in tqdm(range(0, len(Xt_shuffled), batch_size)):\n",
    "            # Add errors of the next batch\n",
    "            dx, dy = Xt_shuffled[i:i+batch_size], Yt_shuffled[i:i+batch_size]\n",
    "            dypred = clf.predict(dx)\n",
    "            x = np.concatenate([x, dx[dypred != dy, :]])\n",
    "            y = np.concatenate([y, dy[dypred != dy]])\n",
    "            clf.fit(x, y)\n",
    "    return x, y, clf\n",
    "\n",
    "import time\n",
    "import pandas as pd\n",
    "from IPython.display import display\n",
    "from tqdm.notebook import tqdm\n",
    "from pathlib import Path\n",
    "from sklearn.tree import DecisionTreeClassifier\n",
    "from sklearn import svm\n",
    "from xgboost import XGBClassifier\n",
    "from sklearn.neural_network import MLPClassifier\n",
    "from tabpfn import TabPFNClassifier\n",
    "#from tabpfn_extensions.post_hoc_ensembles.sklearn_interface import AutoTabPFNClassifier\n",
    "from sklearn.ensemble import RandomForestClassifier\n",
    "from catboost import CatBoostClassifier\n",
    "from sklearn.metrics import f1_score\n",
    "\n",
    "class CatBoostClassifierv2(CatBoostClassifier):\n",
    "    def predict(self, x):\n",
    "        y = super().predict(x)\n",
    "        return np.squeeze(y)\n",
    "\n",
    "clfs = {'dtree': lambda seed: DecisionTreeClassifier(random_state=seed),\n",
    "        'svm': lambda seed: svm.SVC(random_state=seed),\n",
    "        'xgboost': lambda seed: XGBClassifier(seed=seed),\n",
    "        'randomforest': lambda seed: RandomForestClassifier(random_state=seed),\n",
    "        'catboost': lambda seed: CatBoostClassifierv2(random_state=seed, verbose=0),\n",
    "        #'mlp': lambda seed: MLPClassifier(random_state=seed, max_iter=300),\n",
    "        'tabpfn': lambda seed: TabPFNClassifier(random_state=seed),  # Debo limitar el nuero de instacias < 10000\n",
    "        #'autotabpfn': lambda seed: AutoTabPFNClassifier(random_state=seed, max_time=30, device=\"cuda\"),  # Debo limitar el nuero de instacias < 10000\n",
    "}"
   ]
  },
  {
   "cell_type": "code",
   "execution_count": 9,
   "id": "fdf3d3fd-2de8-4ac2-93d7-3b5418015f82",
   "metadata": {},
   "outputs": [
    {
     "name": "stdout",
     "output_type": "stream",
     "text": [
      "G-mean (average=None): [0.8660254 0.        0.       ]\n"
     ]
    }
   ],
   "source": [
    "from imblearn.metrics import geometric_mean_score\n",
    "y_true = [0, 1, 2, 0, 1, 2]\n",
    "y_pred = [0, 2, 1, 0, 0, 1]\n",
    "\n",
    "print(\"G-mean (average=None):\", geometric_mean_score(y_true, y_pred, average=None))"
   ]
  },
  {
   "cell_type": "code",
   "execution_count": 10,
   "id": "bc3e23d6",
   "metadata": {
    "colab": {
     "base_uri": "https://localhost:8080/",
     "height": 392
    },
    "id": "bc3e23d6",
    "outputId": "c2f8fc46-292f-4b30-e074-0d161a7fd0a1"
   },
   "outputs": [
    {
     "data": {
      "application/vnd.jupyter.widget-view+json": {
       "model_id": "fabe66c38a604b8abedb26dae200f1c4",
       "version_major": 2,
       "version_minor": 0
      },
      "text/plain": [
       "  0%|          | 0/1 [00:00<?, ?it/s]"
      ]
     },
     "metadata": {},
     "output_type": "display_data"
    },
    {
     "data": {
      "application/vnd.jupyter.widget-view+json": {
       "model_id": "0c4d5a8f8afa4f3a8287b91103867469",
       "version_major": 2,
       "version_minor": 0
      },
      "text/plain": [
       "  0%|          | 0/127 [00:00<?, ?it/s]"
      ]
     },
     "metadata": {},
     "output_type": "display_data"
    },
    {
     "name": "stdout",
     "output_type": "stream",
     "text": [
      "[0.99898338 0.99961993 0.99961227 0.9971076  0.99997754]\n",
      "[0.99694399 0.99913425 0.99644919 0.98698398 0.85839508]\n",
      "[0.98393886 0.98745807 0.96562343 0.8644215  0.        ]\n",
      "Results for tabpfn classifier:\n"
     ]
    },
    {
     "data": {
      "text/html": [
       "<div>\n",
       "<style scoped>\n",
       "    .dataframe tbody tr th:only-of-type {\n",
       "        vertical-align: middle;\n",
       "    }\n",
       "\n",
       "    .dataframe tbody tr th {\n",
       "        vertical-align: top;\n",
       "    }\n",
       "\n",
       "    .dataframe thead th {\n",
       "        text-align: right;\n",
       "    }\n",
       "</style>\n",
       "<table border=\"1\" class=\"dataframe\">\n",
       "  <thead>\n",
       "    <tr style=\"text-align: right;\">\n",
       "      <th></th>\n",
       "      <th>bs</th>\n",
       "      <th>f1-aoe (m)</th>\n",
       "      <th>f1-c (m)</th>\n",
       "      <th>f1-rss (m)</th>\n",
       "      <th>t-aoe (m)</th>\n",
       "      <th>t-c (m)</th>\n",
       "      <th>t-rss (m)</th>\n",
       "      <th>Nds-aoe (m)</th>\n",
       "      <th>f1-aoe (s)</th>\n",
       "      <th>f1-c (s)</th>\n",
       "      <th>f1-rss (s)</th>\n",
       "      <th>t-aoe (s)</th>\n",
       "      <th>t-c (s)</th>\n",
       "      <th>t-rss (s)</th>\n",
       "      <th>Nds-aoe (s)</th>\n",
       "    </tr>\n",
       "  </thead>\n",
       "  <tbody>\n",
       "    <tr>\n",
       "      <th>0</th>\n",
       "      <td>1000</td>\n",
       "      <td>0.991808</td>\n",
       "      <td>0.960551</td>\n",
       "      <td>0.73936</td>\n",
       "      <td>130.834451</td>\n",
       "      <td>1.710293</td>\n",
       "      <td>0.528361</td>\n",
       "      <td>666.0</td>\n",
       "      <td>NaN</td>\n",
       "      <td>NaN</td>\n",
       "      <td>NaN</td>\n",
       "      <td>NaN</td>\n",
       "      <td>NaN</td>\n",
       "      <td>NaN</td>\n",
       "      <td>NaN</td>\n",
       "    </tr>\n",
       "  </tbody>\n",
       "</table>\n",
       "</div>"
      ],
      "text/plain": [
       "     bs f1-aoe (m)  f1-c (m) f1-rss (m)   t-aoe (m)   t-c (m) t-rss (m)  \\\n",
       "0  1000   0.991808  0.960551    0.73936  130.834451  1.710293  0.528361   \n",
       "\n",
       "  Nds-aoe (m) f1-aoe (s) f1-c (s) f1-rss (s) t-aoe (s) t-c (s) t-rss (s)  \\\n",
       "0       666.0        NaN      NaN        NaN       NaN     NaN       NaN   \n",
       "\n",
       "  Nds-aoe (s)  \n",
       "0         NaN  "
      ]
     },
     "metadata": {},
     "output_type": "display_data"
    },
    {
     "data": {
      "application/vnd.jupyter.widget-view+json": {
       "model_id": "874f347108f143ef8f2bf08c1125417d",
       "version_major": 2,
       "version_minor": 0
      },
      "text/plain": [
       "  0%|          | 0/1 [00:00<?, ?it/s]"
      ]
     },
     "metadata": {},
     "output_type": "display_data"
    },
    {
     "data": {
      "application/vnd.jupyter.widget-view+json": {
       "model_id": "afd1bd53fd8a46fb96229023d486b190",
       "version_major": 2,
       "version_minor": 0
      },
      "text/plain": [
       "  0%|          | 0/127 [00:00<?, ?it/s]"
      ]
     },
     "metadata": {},
     "output_type": "display_data"
    },
    {
     "name": "stdout",
     "output_type": "stream",
     "text": [
      "[0.99926209 0.99924821 0.99853952 0.99905184 1.        ]\n",
      "[0.99770016 0.99927642 0.99644205 0.98192869 0.72547625]\n",
      "[0.98641127 0.98999717 0.97217033 0.8680454  0.22941573]\n",
      "Results for randomforest classifier:\n"
     ]
    },
    {
     "data": {
      "text/html": [
       "<div>\n",
       "<style scoped>\n",
       "    .dataframe tbody tr th:only-of-type {\n",
       "        vertical-align: middle;\n",
       "    }\n",
       "\n",
       "    .dataframe tbody tr th {\n",
       "        vertical-align: top;\n",
       "    }\n",
       "\n",
       "    .dataframe thead th {\n",
       "        text-align: right;\n",
       "    }\n",
       "</style>\n",
       "<table border=\"1\" class=\"dataframe\">\n",
       "  <thead>\n",
       "    <tr style=\"text-align: right;\">\n",
       "      <th></th>\n",
       "      <th>bs</th>\n",
       "      <th>f1-aoe (m)</th>\n",
       "      <th>f1-c (m)</th>\n",
       "      <th>f1-rss (m)</th>\n",
       "      <th>t-aoe (m)</th>\n",
       "      <th>t-c (m)</th>\n",
       "      <th>t-rss (m)</th>\n",
       "      <th>Nds-aoe (m)</th>\n",
       "      <th>f1-aoe (s)</th>\n",
       "      <th>f1-c (s)</th>\n",
       "      <th>f1-rss (s)</th>\n",
       "      <th>t-aoe (s)</th>\n",
       "      <th>t-c (s)</th>\n",
       "      <th>t-rss (s)</th>\n",
       "      <th>Nds-aoe (s)</th>\n",
       "    </tr>\n",
       "  </thead>\n",
       "  <tbody>\n",
       "    <tr>\n",
       "      <th>0</th>\n",
       "      <td>1000</td>\n",
       "      <td>0.998663</td>\n",
       "      <td>0.929631</td>\n",
       "      <td>0.775735</td>\n",
       "      <td>15.361326</td>\n",
       "      <td>0.483736</td>\n",
       "      <td>0.10361</td>\n",
       "      <td>848.0</td>\n",
       "      <td>NaN</td>\n",
       "      <td>NaN</td>\n",
       "      <td>NaN</td>\n",
       "      <td>NaN</td>\n",
       "      <td>NaN</td>\n",
       "      <td>NaN</td>\n",
       "      <td>NaN</td>\n",
       "    </tr>\n",
       "  </tbody>\n",
       "</table>\n",
       "</div>"
      ],
      "text/plain": [
       "     bs f1-aoe (m)  f1-c (m) f1-rss (m)  t-aoe (m)   t-c (m) t-rss (m)  \\\n",
       "0  1000   0.998663  0.929631   0.775735  15.361326  0.483736   0.10361   \n",
       "\n",
       "  Nds-aoe (m) f1-aoe (s) f1-c (s) f1-rss (s) t-aoe (s) t-c (s) t-rss (s)  \\\n",
       "0       848.0        NaN      NaN        NaN       NaN     NaN       NaN   \n",
       "\n",
       "  Nds-aoe (s)  \n",
       "0         NaN  "
      ]
     },
     "metadata": {},
     "output_type": "display_data"
    }
   ],
   "source": [
    "import pickle\n",
    "\n",
    "bs_values = [1000] #[100, 1000, 10000]\n",
    "# tengo que lmitarlo a 10000, porque no puede hacer inferencias mayores de 10000.\n",
    "# tndria que hacer infrecia por cahos, pero aun cuando entrena estara topado a 10000\n",
    "\n",
    "Nseeds = 1\n",
    "n_epochs = 1\n",
    "clflabels = [\"tabpfn\", \"randomforest\"]  #\"autotabpfn\"\n",
    "\n",
    "outdir = f\"outputsv3/{dsname}/\"\n",
    "Path(outdir).mkdir(parents=True, exist_ok=True)\n",
    "columns = [\"f1-aoe\", \"f1-c\", \"f1-rss\", \"t-aoe\", \"t-c\", \"t-rss\", \"Nds-aoe\"]\n",
    "# aoe: addonlyerrors, c: complete, rss: random selection strategy\n",
    "# t: training time, f1: f1-score macro, Nds: dataset size, bs: batch size\n",
    "for clflabel in clflabels:\n",
    "    stats = pd.DataFrame(bs_values, columns=[\"bs\"])\n",
    "    for column in columns:\n",
    "        stats[column + \" (m)\"] = None\n",
    "    for column in columns:\n",
    "        stats[column + \" (s)\"] = None\n",
    "\n",
    "    for irow, row in stats.iterrows():\n",
    "        metrics = {column: [] for column in columns}\n",
    "        for _ in tqdm(range(Nseeds)):\n",
    "\n",
    "            # Add Only Errors Strategy\n",
    "            x0 = time.time()\n",
    "            xr, yr, clf_aoe = addOnlyErrors(Xt, Yt, row[\"bs\"], n_epochs, clfs[clflabel](seed=None))\n",
    "            metrics[\"t-aoe\"].append(time.time()-x0)\n",
    "            Ypred = clf_aoe.predict(Xtest)\n",
    "            metrics[\"f1-aoe\"].append(f1_score(Ytest, Ypred, average='macro'))\n",
    "            metrics[\"Nds-aoe\"].append(xr.shape[0])\n",
    "            del clf_aoe\n",
    "            torch.cuda.empty_cache()\n",
    "\n",
    "            print(geometric_mean_score(Ytest, Ypred, average=None))\n",
    "\n",
    "            # Complete dataset\n",
    "            clf_c = clfs[clflabel](seed=None)\n",
    "            indices = np.random.choice(len(Xt), size=10000, replace=False)   ####\n",
    "            x0 = time.time()\n",
    "            clf_c.fit(Xt[indices], Yt[indices])                              ####\n",
    "            metrics[\"t-c\"].append(time.time()-x0)\n",
    "            Ypred = clf_c.predict(Xtest)\n",
    "            metrics[\"f1-c\"].append(f1_score(Ytest, Ypred, average='macro'))\n",
    "            del clf_c\n",
    "            torch.cuda.empty_cache()\n",
    "\n",
    "            print(geometric_mean_score(Ytest, Ypred, average=None))\n",
    "\n",
    "            # Random Selection Strategy\n",
    "            x0 = time.time()\n",
    "            _, _, clf_rss = rss(Xt, Yt, xr.shape[0], clfs[clflabel](seed=None))\n",
    "            metrics[\"t-rss\"].append(time.time()-x0)\n",
    "            Ypred = clf_rss.predict(Xtest)\n",
    "            metrics[\"f1-rss\"].append(f1_score(Ytest, Ypred, average='macro'))\n",
    "            del clf_rss\n",
    "            torch.cuda.empty_cache()\n",
    "\n",
    "            print(geometric_mean_score(Ytest, Ypred, average=None))\n",
    "\n",
    "            with open(f\"temp_metrics_{clflabel}_{row['bs']}.pkl\", \"wb\") as f:\n",
    "                pickle.dump(metrics, f)\n",
    "\n",
    "        metrics_df = pd.DataFrame.from_dict(metrics)\n",
    "        stats.iloc[irow] = [row[\"bs\"]] + metrics_df.mean().tolist() + metrics_df.std().tolist()\n",
    "\n",
    "        print(f\"Results for {clflabel} classifier:\")\n",
    "        stats.to_csv(outdir + f\"{clflabel}.csv\", index=False)\n",
    "        display(stats)"
   ]
  },
  {
   "cell_type": "code",
   "execution_count": 1,
   "id": "c9bdddff-cfee-4f5b-b243-cee0c498ce19",
   "metadata": {},
   "outputs": [
    {
     "ename": "NameError",
     "evalue": "name 'Xt' is not defined",
     "output_type": "error",
     "traceback": [
      "\u001b[31m---------------------------------------------------------------------------\u001b[39m",
      "\u001b[31mNameError\u001b[39m                                 Traceback (most recent call last)",
      "\u001b[36mCell\u001b[39m\u001b[36m \u001b[39m\u001b[32mIn[1]\u001b[39m\u001b[32m, line 1\u001b[39m\n\u001b[32m----> \u001b[39m\u001b[32m1\u001b[39m \u001b[43mXt\u001b[49m.shape\n",
      "\u001b[31mNameError\u001b[39m: name 'Xt' is not defined"
     ]
    }
   ],
   "source": [
    "Xt.shape"
   ]
  },
  {
   "cell_type": "code",
   "execution_count": null,
   "id": "qVIr6qHz35gJ",
   "metadata": {
    "colab": {
     "base_uri": "https://localhost:8080/",
     "height": 34
    },
    "id": "qVIr6qHz35gJ",
    "outputId": "efe6b45d-f85e-45ee-9241-7263b5f0423a"
   },
   "outputs": [],
   "source": [
    "import shutil\n",
    "\n",
    "carpeta_origen = \"/content/outputsv3/\"\n",
    "archivo_zip_salida = f\"/content/outputsv3\"\n",
    "shutil.make_archive(archivo_zip_salida, 'zip', carpeta_origen)\n",
    "\n",
    "print(f\"Archivo ZIP creado: {archivo_zip_salida}.zip\")\n",
    "from google.colab import files\n",
    "files.download(f\"{archivo_zip_salida}.zip\")"
   ]
  },
  {
   "cell_type": "code",
   "execution_count": null,
   "id": "6c696735-1312-4bc6-8b02-71ae9aa4d017",
   "metadata": {},
   "outputs": [],
   "source": []
  }
 ],
 "metadata": {
  "accelerator": "GPU",
  "colab": {
   "gpuType": "L4",
   "name": "reduce_dataset_v4_GCP_tabpfn_resampled.ipynb",
   "provenance": []
  },
  "kernelspec": {
   "display_name": "Python 3 (ipykernel)",
   "language": "python",
   "name": "python3"
  },
  "language_info": {
   "codemirror_mode": {
    "name": "ipython",
    "version": 3
   },
   "file_extension": ".py",
   "mimetype": "text/x-python",
   "name": "python",
   "nbconvert_exporter": "python",
   "pygments_lexer": "ipython3",
   "version": "3.13.7"
  }
 },
 "nbformat": 4,
 "nbformat_minor": 5
}
