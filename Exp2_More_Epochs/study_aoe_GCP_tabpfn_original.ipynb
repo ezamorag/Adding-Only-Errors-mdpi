{
  "cells": [
    {
      "cell_type": "code",
      "execution_count": null,
      "id": "421b017b",
      "metadata": {
        "colab": {
          "base_uri": "https://localhost:8080/"
        },
        "id": "421b017b",
        "outputId": "5a3f860a-35b7-44be-d2e5-176671f2bbfe"
      },
      "outputs": [
        {
          "output_type": "stream",
          "name": "stdout",
          "text": [
            "Requirement already satisfied: scikit-learn in /usr/local/lib/python3.10/dist-packages (from -r requirements.txt (line 1)) (1.6.0)\n",
            "Requirement already satisfied: joblib in /usr/local/lib/python3.10/dist-packages (from -r requirements.txt (line 2)) (1.4.2)\n",
            "Requirement already satisfied: mlxtend in /usr/local/lib/python3.10/dist-packages (from -r requirements.txt (line 3)) (0.23.3)\n",
            "Requirement already satisfied: matplotlib in /usr/local/lib/python3.10/dist-packages (from -r requirements.txt (line 4)) (3.10.0)\n",
            "Collecting tabpfn (from -r requirements.txt (line 5))\n",
            "  Downloading tabpfn-2.0.8-py3-none-any.whl.metadata (25 kB)\n",
            "Requirement already satisfied: xgboost in /usr/local/lib/python3.10/dist-packages (from -r requirements.txt (line 6)) (2.1.3)\n",
            "Collecting catboost (from -r requirements.txt (line 7))\n",
            "  Downloading catboost-1.2.8-cp310-cp310-manylinux2014_x86_64.whl.metadata (1.2 kB)\n",
            "Requirement already satisfied: numpy>=1.19.5 in /usr/local/lib/python3.10/dist-packages (from scikit-learn->-r requirements.txt (line 1)) (1.26.4)\n",
            "Requirement already satisfied: scipy>=1.6.0 in /usr/local/lib/python3.10/dist-packages (from scikit-learn->-r requirements.txt (line 1)) (1.13.1)\n",
            "Requirement already satisfied: threadpoolctl>=3.1.0 in /usr/local/lib/python3.10/dist-packages (from scikit-learn->-r requirements.txt (line 1)) (3.5.0)\n",
            "Requirement already satisfied: pandas>=0.24.2 in /usr/local/lib/python3.10/dist-packages (from mlxtend->-r requirements.txt (line 3)) (2.2.2)\n",
            "Requirement already satisfied: contourpy>=1.0.1 in /usr/local/lib/python3.10/dist-packages (from matplotlib->-r requirements.txt (line 4)) (1.3.1)\n",
            "Requirement already satisfied: cycler>=0.10 in /usr/local/lib/python3.10/dist-packages (from matplotlib->-r requirements.txt (line 4)) (0.12.1)\n",
            "Requirement already satisfied: fonttools>=4.22.0 in /usr/local/lib/python3.10/dist-packages (from matplotlib->-r requirements.txt (line 4)) (4.55.3)\n",
            "Requirement already satisfied: kiwisolver>=1.3.1 in /usr/local/lib/python3.10/dist-packages (from matplotlib->-r requirements.txt (line 4)) (1.4.8)\n",
            "Requirement already satisfied: packaging>=20.0 in /usr/local/lib/python3.10/dist-packages (from matplotlib->-r requirements.txt (line 4)) (24.2)\n",
            "Requirement already satisfied: pillow>=8 in /usr/local/lib/python3.10/dist-packages (from matplotlib->-r requirements.txt (line 4)) (11.1.0)\n",
            "Requirement already satisfied: pyparsing>=2.3.1 in /usr/local/lib/python3.10/dist-packages (from matplotlib->-r requirements.txt (line 4)) (3.2.1)\n",
            "Requirement already satisfied: python-dateutil>=2.7 in /usr/local/lib/python3.10/dist-packages (from matplotlib->-r requirements.txt (line 4)) (2.8.2)\n",
            "Requirement already satisfied: torch<3,>=2.1 in /usr/local/lib/python3.10/dist-packages (from tabpfn->-r requirements.txt (line 5)) (2.5.1+cu121)\n",
            "Requirement already satisfied: typing_extensions>=4.4.0 in /usr/local/lib/python3.10/dist-packages (from tabpfn->-r requirements.txt (line 5)) (4.12.2)\n",
            "Requirement already satisfied: einops<0.9,>=0.2.0 in /usr/local/lib/python3.10/dist-packages (from tabpfn->-r requirements.txt (line 5)) (0.8.0)\n",
            "Requirement already satisfied: huggingface-hub<1,>=0.0.1 in /usr/local/lib/python3.10/dist-packages (from tabpfn->-r requirements.txt (line 5)) (0.27.1)\n",
            "Requirement already satisfied: nvidia-nccl-cu12 in /usr/local/lib/python3.10/dist-packages (from xgboost->-r requirements.txt (line 6)) (2.24.3)\n",
            "Requirement already satisfied: graphviz in /usr/local/lib/python3.10/dist-packages (from catboost->-r requirements.txt (line 7)) (0.20.3)\n",
            "Requirement already satisfied: plotly in /usr/local/lib/python3.10/dist-packages (from catboost->-r requirements.txt (line 7)) (5.24.1)\n",
            "Requirement already satisfied: six in /usr/local/lib/python3.10/dist-packages (from catboost->-r requirements.txt (line 7)) (1.17.0)\n",
            "Requirement already satisfied: filelock in /usr/local/lib/python3.10/dist-packages (from huggingface-hub<1,>=0.0.1->tabpfn->-r requirements.txt (line 5)) (3.16.1)\n",
            "Requirement already satisfied: fsspec>=2023.5.0 in /usr/local/lib/python3.10/dist-packages (from huggingface-hub<1,>=0.0.1->tabpfn->-r requirements.txt (line 5)) (2024.10.0)\n",
            "Requirement already satisfied: pyyaml>=5.1 in /usr/local/lib/python3.10/dist-packages (from huggingface-hub<1,>=0.0.1->tabpfn->-r requirements.txt (line 5)) (6.0.2)\n",
            "Requirement already satisfied: requests in /usr/local/lib/python3.10/dist-packages (from huggingface-hub<1,>=0.0.1->tabpfn->-r requirements.txt (line 5)) (2.32.3)\n",
            "Requirement already satisfied: tqdm>=4.42.1 in /usr/local/lib/python3.10/dist-packages (from huggingface-hub<1,>=0.0.1->tabpfn->-r requirements.txt (line 5)) (4.67.1)\n",
            "Requirement already satisfied: pytz>=2020.1 in /usr/local/lib/python3.10/dist-packages (from pandas>=0.24.2->mlxtend->-r requirements.txt (line 3)) (2024.2)\n",
            "Requirement already satisfied: tzdata>=2022.7 in /usr/local/lib/python3.10/dist-packages (from pandas>=0.24.2->mlxtend->-r requirements.txt (line 3)) (2024.2)\n",
            "Requirement already satisfied: networkx in /usr/local/lib/python3.10/dist-packages (from torch<3,>=2.1->tabpfn->-r requirements.txt (line 5)) (3.4.2)\n",
            "Requirement already satisfied: jinja2 in /usr/local/lib/python3.10/dist-packages (from torch<3,>=2.1->tabpfn->-r requirements.txt (line 5)) (3.1.5)\n",
            "Requirement already satisfied: sympy==1.13.1 in /usr/local/lib/python3.10/dist-packages (from torch<3,>=2.1->tabpfn->-r requirements.txt (line 5)) (1.13.1)\n",
            "Requirement already satisfied: mpmath<1.4,>=1.1.0 in /usr/local/lib/python3.10/dist-packages (from sympy==1.13.1->torch<3,>=2.1->tabpfn->-r requirements.txt (line 5)) (1.3.0)\n",
            "Requirement already satisfied: tenacity>=6.2.0 in /usr/local/lib/python3.10/dist-packages (from plotly->catboost->-r requirements.txt (line 7)) (9.0.0)\n",
            "Requirement already satisfied: MarkupSafe>=2.0 in /usr/local/lib/python3.10/dist-packages (from jinja2->torch<3,>=2.1->tabpfn->-r requirements.txt (line 5)) (3.0.2)\n",
            "Requirement already satisfied: charset-normalizer<4,>=2 in /usr/local/lib/python3.10/dist-packages (from requests->huggingface-hub<1,>=0.0.1->tabpfn->-r requirements.txt (line 5)) (3.4.1)\n",
            "Requirement already satisfied: idna<4,>=2.5 in /usr/local/lib/python3.10/dist-packages (from requests->huggingface-hub<1,>=0.0.1->tabpfn->-r requirements.txt (line 5)) (3.10)\n",
            "Requirement already satisfied: urllib3<3,>=1.21.1 in /usr/local/lib/python3.10/dist-packages (from requests->huggingface-hub<1,>=0.0.1->tabpfn->-r requirements.txt (line 5)) (2.3.0)\n",
            "Requirement already satisfied: certifi>=2017.4.17 in /usr/local/lib/python3.10/dist-packages (from requests->huggingface-hub<1,>=0.0.1->tabpfn->-r requirements.txt (line 5)) (2024.12.14)\n",
            "Downloading tabpfn-2.0.8-py3-none-any.whl (128 kB)\n",
            "\u001b[2K   \u001b[90m━━━━━━━━━━━━━━━━━━━━━━━━━━━━━━━━━━━━━━━━\u001b[0m \u001b[32m128.8/128.8 kB\u001b[0m \u001b[31m17.7 MB/s\u001b[0m eta \u001b[36m0:00:00\u001b[0m\n",
            "\u001b[?25hDownloading catboost-1.2.8-cp310-cp310-manylinux2014_x86_64.whl (99.2 MB)\n",
            "\u001b[2K   \u001b[90m━━━━━━━━━━━━━━━━━━━━━━━━━━━━━━━━━━━━━━━━\u001b[0m \u001b[32m99.2/99.2 MB\u001b[0m \u001b[31m25.4 MB/s\u001b[0m eta \u001b[36m0:00:00\u001b[0m\n",
            "\u001b[?25hInstalling collected packages: tabpfn, catboost\n",
            "Successfully installed catboost-1.2.8 tabpfn-2.0.8\n"
          ]
        }
      ],
      "source": [
        "!pip install -r requirements.txt"
      ]
    },
    {
      "cell_type": "code",
      "execution_count": null,
      "id": "0eaf6618",
      "metadata": {
        "id": "0eaf6618"
      },
      "outputs": [],
      "source": [
        "import matplotlib.pyplot as plt\n",
        "\n",
        "def eda(Xt, Yt, Xtest, Ytest):\n",
        "    print(Xt.shape, Yt.shape)\n",
        "    print(Xtest.shape, Ytest.shape)\n",
        "\n",
        "    print(Xt.dtype, Yt.dtype)\n",
        "    print(Xtest.dtype, Ytest.dtype)\n",
        "\n",
        "    plt.figure(figsize=(7,2))\n",
        "    plt.subplot(121)\n",
        "    plt.hist(Yt)\n",
        "    plt.subplot(122)\n",
        "    plt.hist(Ytest)\n",
        "    plt.show()\n",
        "\n",
        "    print('clase, Ytest/Yt, Nt, Ntest')\n",
        "    for i in range(5):\n",
        "        strain, stest = (Yt == i).sum(), (Ytest == i).sum()\n",
        "        p = round(stest/strain, 4)\n",
        "        print(i, p, strain, stest)\n",
        "\n",
        "    print()\n",
        "    print('statistics')\n",
        "    print(Xt.mean(), Xt.std(), Xt.min(), Xt.max())\n",
        "    print(Xtest.mean(), Xtest.std(), Xtest.min(), Xtest.max())\n",
        "\n",
        "import sklearn as sk\n",
        "from mlxtend.evaluate import accuracy_score\n",
        "\n",
        "def evaluation(classifier, Ytest, Ypred, tree=False):\n",
        "    std_acc = accuracy_score(Ytest, Ypred)\n",
        "    avg_acc = accuracy_score(Ytest, Ypred, method='average')\n",
        "    bin_acc0 = accuracy_score(Ytest, Ypred, method='binary', pos_label=0)\n",
        "    bin_acc1 = accuracy_score(Ytest, Ypred, method='binary', pos_label=1)\n",
        "    bin_acc2 = accuracy_score(Ytest, Ypred, method='binary', pos_label=2)\n",
        "    bin_acc3 = accuracy_score(Ytest, Ypred, method='binary', pos_label=3)\n",
        "    bin_acc4 = accuracy_score(Ytest, Ypred, method='binary', pos_label=4)\n",
        "    class_precision = sk.metrics.precision_score (Ytest, Ypred, average = None)\n",
        "    recall = sk.metrics.recall_score(Ytest, Ypred, average= None)\n",
        "    f1macro = sk.metrics.f1_score(Ytest, Ypred, average=\"macro\")\n",
        "\n",
        "    print(f'f1-macro:                   {f1macro:.4f}')\n",
        "    print(f'Standard accuracy:          {std_acc:.4f}')\n",
        "    print(f'Average per-class accuracy: {avg_acc:.4f}')\n",
        "    print ()\n",
        "    print(f'Normal accuracy: {bin_acc0:.4f}')\n",
        "    print(f'DoS accuracy:    {bin_acc1:.4f}')\n",
        "    print(f'Probe accuracy:  {bin_acc2:.4f}')\n",
        "    print(f'R2L accuracy:    {bin_acc3:.4f}')\n",
        "    print(f'U2R accuracy:    {bin_acc4:.4f}')\n",
        "    print()\n",
        "    print(f\"Normal Precision: {class_precision[0]:.4f}\")\n",
        "    print(f\"DoS Precision:    {class_precision[1]:.4f}\")\n",
        "    print(f\"Probe Precision:  {class_precision[2]:.4f}\")\n",
        "    print(f\"R2L Precision:    {class_precision[3]:.4f}\")\n",
        "    print(f\"U2R Precision:    {class_precision[4]:.4f}\")\n",
        "    print()\n",
        "    print(f\"Normal Recall: {recall[0]:.4f}\")\n",
        "    print(f\"DoS Recall:    {recall[1]:.4f}\")\n",
        "    print(f\"Probe Recall:  {recall[2]:.4f}\")\n",
        "    print(f\"R2L Recall:    {recall[3]:.4f}\")\n",
        "    print(f\"U2R Recall:    {recall[4]:.4f}\")\n",
        "\n",
        "    confusion_matrix = sk.metrics.confusion_matrix(Ytest, Ypred)\n",
        "    cm_display = sk.metrics.ConfusionMatrixDisplay(confusion_matrix = confusion_matrix)\n",
        "    cm_display.plot()\n",
        "    plt.show()\n",
        "\n",
        "    if tree:\n",
        "        sk.tree.plot_tree(classifier, fontsize=1)\n",
        "    return None"
      ]
    },
    {
      "cell_type": "markdown",
      "id": "c8bb1259",
      "metadata": {
        "id": "c8bb1259"
      },
      "source": [
        "### Original split"
      ]
    },
    {
      "cell_type": "code",
      "execution_count": null,
      "id": "04ab29c7",
      "metadata": {
        "colab": {
          "base_uri": "https://localhost:8080/",
          "height": 460
        },
        "id": "04ab29c7",
        "outputId": "9337612e-9b24-4808-f380-4d9652ff6fff"
      },
      "outputs": [
        {
          "output_type": "stream",
          "name": "stdout",
          "text": [
            "(125973, 122) (125973,)\n",
            "(22544, 122) (22544,)\n",
            "float64 float64\n",
            "float64 float64\n"
          ]
        },
        {
          "output_type": "display_data",
          "data": {
            "text/plain": [
              "<Figure size 700x200 with 2 Axes>"
            ],
            "image/png": "[encoded data removed]"
          },
          "metadata": {}
        },
        {
          "output_type": "stream",
          "name": "stdout",
          "text": [
            "clase, Ytest/Yt, Nt, Ntest\n",
            "0 0.1442 67343 9711\n",
            "1 0.1624 45927 7460\n",
            "2 0.2077 11656 2421\n",
            "3 2.8995 995 2885\n",
            "4 1.2885 52 67\n",
            "\n",
            "statistics\n",
            "0.06601799149797134 0.24008983284759014 0.0 1.0000000000000002\n",
            "0.06743799560348274 0.24247147856107026 0.0 1.0\n"
          ]
        }
      ],
      "source": [
        "from joblib import load\n",
        "import numpy as np\n",
        "from sklearn.utils import shuffle\n",
        "\n",
        "dsdir = 'datasets/'\n",
        "Dnormal_train = load(dsdir + \"normal_train_preprocess.joblib\")\n",
        "Dattacks_train = load(dsdir + \"Attacks_train_preprocess.joblib\")\n",
        "Dnormal_test = load(dsdir + \"normal_test_preprocess.joblib\")\n",
        "Dattacks_test = load(dsdir + \"Attacks_test_preprocess.joblib\")\n",
        "Dtrain = np.concatenate([Dnormal_train,Dattacks_train])\n",
        "Dtest = np.concatenate([Dnormal_test,Dattacks_test])\n",
        "\n",
        "Xt, Yt = shuffle(Dtrain[:, 0:122], Dtrain[:,122], random_state=0)\n",
        "Xtest, Ytest = Dtest[:, 0:122], Dtest[:,122]\n",
        "datasets = {\"original\": (Xt, Yt, Xtest, Ytest)}\n",
        "eda(Xt, Yt, Xtest, Ytest)"
      ]
    },
    {
      "cell_type": "code",
      "execution_count": null,
      "id": "296b0b96",
      "metadata": {
        "id": "296b0b96"
      },
      "outputs": [],
      "source": [
        "from tqdm import tqdm\n",
        "from pathlib import Path\n",
        "from sklearn.tree import DecisionTreeClassifier\n",
        "from sklearn import svm\n",
        "from xgboost import XGBClassifier\n",
        "from sklearn.neural_network import MLPClassifier\n",
        "from tabpfn import TabPFNClassifier\n",
        "#from tabpfn_extensions.post_hoc_ensembles.sklearn_interface import AutoTabPFNClassifier\n",
        "from sklearn.ensemble import RandomForestClassifier\n",
        "from catboost import CatBoostClassifier\n",
        "from sklearn.metrics import f1_score\n",
        "import torch\n",
        "\n",
        "class CatBoostClassifierv2(CatBoostClassifier):\n",
        "    def predict(self, x):\n",
        "        y = super().predict(x)\n",
        "        return np.squeeze(y)\n",
        "\n",
        "clfs = {'dtree': lambda seed: DecisionTreeClassifier(random_state=seed),\n",
        "        'svm': lambda seed: svm.SVC(random_state=seed),\n",
        "        'xgboost': lambda seed: XGBClassifier(seed=seed),\n",
        "        'randomforest': lambda seed: RandomForestClassifier(random_state=seed),\n",
        "        'catboost': lambda seed: CatBoostClassifierv2(random_state=seed, verbose=0),\n",
        "        #'mlp': lambda seed: MLPClassifier(random_state=seed, max_iter=300),\n",
        "        'tabpfn': lambda seed: TabPFNClassifier(random_state=seed),  # Debo limitar el nuero de instacias < 10000\n",
        "        'autotabpfn': lambda seed: AutoTabPFNClassifier(random_state=seed, max_time=30, device=\"cuda\"),  # Debo limitar el nuero de instacias < 10000\n",
        "}"
      ]
    },
    {
      "cell_type": "code",
      "execution_count": null,
      "id": "856ba308",
      "metadata": {
        "id": "856ba308"
      },
      "outputs": [],
      "source": [
        "def addOnlyErrors(Xtrain, Ytrain, batch_size, n_epochs, clf, Xtest, Ytest):\n",
        "    \"\"\" Selection strategy based on adding only errors \"\"\"\n",
        "    # Initialization\n",
        "    Xt_shuffled, Yt_shuffled = shuffle(Xtrain, Ytrain)\n",
        "    _, unique_indices = np.unique(Yt_shuffled, return_index=True)\n",
        "    x, y = Xt_shuffled[unique_indices], Yt_shuffled[unique_indices]\n",
        "    clf.fit(x, y)\n",
        "    n_samples = [len(x)]\n",
        "    f1_scores = [f1_score(Ytest, clf.predict(Xtest), average='macro')]\n",
        "    for epoch in (pbar := tqdm(range(n_epochs))):\n",
        "        #pbar.set_description(f\"Processing epoch: {epoch}\")\n",
        "        torch.cuda.empty_cache()\n",
        "        Xt_shuffled, Yt_shuffled = shuffle(Xtrain, Ytrain)\n",
        "        for i in range(0, len(Xt_shuffled), batch_size):\n",
        "            # Add errors of the next batch\n",
        "            dx, dy = Xt_shuffled[i:i+batch_size], Yt_shuffled[i:i+batch_size]\n",
        "            dypred = clf.predict(dx)\n",
        "            x = np.concatenate([x, dx[dypred != dy, :]])\n",
        "            y = np.concatenate([y, dy[dypred != dy]])\n",
        "            clf.fit(x, y)\n",
        "            n_samples += [len(x)]\n",
        "            f1_scores.append(f1_score(Ytest, clf.predict(Xtest), average='macro'))\n",
        "    return x, y, clf, n_samples, f1_scores"
      ]
    },
    {
      "cell_type": "code",
      "execution_count": null,
      "id": "78f15eb9",
      "metadata": {
        "colab": {
          "base_uri": "https://localhost:8080/"
        },
        "id": "78f15eb9",
        "outputId": "8f037f5d-11c0-4f25-fba9-62dc8903a07a"
      },
      "outputs": [
        {
          "output_type": "stream",
          "name": "stdout",
          "text": [
            "Running for original dataset\n"
          ]
        },
        {
          "output_type": "stream",
          "name": "stderr",
          "text": [
            "  0%|          | 0/25 [00:00<?, ?it/s]\n",
            "  0%|          | 0/5 [00:00<?, ?it/s]\u001b[A"
          ]
        }
      ],
      "source": [
        "import pickle\n",
        "\n",
        "bs = 1000\n",
        "Nseeds = 25\n",
        "n_epochs = 5\n",
        "clflabels = [\"tabpfn\"]\n",
        "\n",
        "for dsname in [\"original\"]:\n",
        "    print(f\"Running for {dsname} dataset\")\n",
        "    Xt, Yt, Xtest, Ytest = datasets[dsname]\n",
        "    outdir = f\"outputs_study_aoe/normal_attacks_{dsname}/\"\n",
        "    Path(outdir).mkdir(parents=True, exist_ok=True)\n",
        "    for clflabel in clflabels:\n",
        "        NS, F1, datasets = [], [], []\n",
        "        for _ in tqdm(range(Nseeds)):\n",
        "            xr, yr, clf, n_samples, f1_scores = addOnlyErrors(Xt, Yt, bs, n_epochs, clfs[clflabel](seed=None), Xtest, Ytest)\n",
        "            del clf\n",
        "            # save the model\n",
        "            NS.append(np.array(n_samples))\n",
        "            F1.append(np.array(f1_scores))\n",
        "            datasets.append((xr, yr))\n",
        "        # save the results\n",
        "        np.savez_compressed(outdir + f\"{clflabel}_nsamples_f1scores.npz\", NS=np.array(NS), F1=np.array(F1))\n",
        "        with open(outdir + f\"{clflabel}_datasets.pkl\", \"wb\") as f:\n",
        "            pickle.dump(datasets, f)\n",
        "        print(f\"Results for {clflabel} classifier has been saved\")\n"
      ]
    },
    {
      "cell_type": "code",
      "execution_count": null,
      "id": "891fe968",
      "metadata": {
        "id": "891fe968",
        "outputId": "a5c820d7-4fab-46db-ee55-417cf35979a9",
        "colab": {
          "base_uri": "https://localhost:8080/",
          "height": 34
        }
      },
      "outputs": [
        {
          "output_type": "stream",
          "name": "stdout",
          "text": [
            "Archivo ZIP creado: /content/outputs.zip\n"
          ]
        },
        {
          "output_type": "display_data",
          "data": {
            "text/plain": [
              "<IPython.core.display.Javascript object>"
            ],
            "application/javascript": [
              "\n",
              "    async function download(id, filename, size) {\n",
              "      if (!google.colab.kernel.accessAllowed) {\n",
              "        return;\n",
              "      }\n",
              "      const div = document.createElement('div');\n",
              "      const label = document.createElement('label');\n",
              "      label.textContent = `Downloading \"${filename}\": `;\n",
              "      div.appendChild(label);\n",
              "      const progress = document.createElement('progress');\n",
              "      progress.max = size;\n",
              "      div.appendChild(progress);\n",
              "      document.body.appendChild(div);\n",
              "\n",
              "      const buffers = [];\n",
              "      let downloaded = 0;\n",
              "\n",
              "      const channel = await google.colab.kernel.comms.open(id);\n",
              "      // Send a message to notify the kernel that we're ready.\n",
              "      channel.send({})\n",
              "\n",
              "      for await (const message of channel.messages) {\n",
              "        // Send a message to notify the kernel that we're ready.\n",
              "        channel.send({})\n",
              "        if (message.buffers) {\n",
              "          for (const buffer of message.buffers) {\n",
              "            buffers.push(buffer);\n",
              "            downloaded += buffer.byteLength;\n",
              "            progress.value = downloaded;\n",
              "          }\n",
              "        }\n",
              "      }\n",
              "      const blob = new Blob(buffers, {type: 'application/binary'});\n",
              "      const a = document.createElement('a');\n",
              "      a.href = window.URL.createObjectURL(blob);\n",
              "      a.download = filename;\n",
              "      div.appendChild(a);\n",
              "      a.click();\n",
              "      div.remove();\n",
              "    }\n",
              "  "
            ]
          },
          "metadata": {}
        },
        {
          "output_type": "display_data",
          "data": {
            "text/plain": [
              "<IPython.core.display.Javascript object>"
            ],
            "application/javascript": [
              "download(\"download_eb2a4f90-b4e7-4a18-9211-8a9110247b51\", \"outputs.zip\", 606468)"
            ]
          },
          "metadata": {}
        }
      ],
      "source": [
        "import shutil\n",
        "\n",
        "carpeta_origen = \"/content/outputs_study_aoe/\"\n",
        "archivo_zip_salida = f\"/content/outputs\"\n",
        "shutil.make_archive(archivo_zip_salida, 'zip', carpeta_origen)\n",
        "\n",
        "print(f\"Archivo ZIP creado: {archivo_zip_salida}.zip\")\n",
        "from google.colab import files\n",
        "files.download(f\"{archivo_zip_salida}.zip\")"
      ]
    }
  ],
  "metadata": {
    "colab": {
      "provenance": [],
      "name": "study_aoe_GCP_tabpfn_original.ipynb",
      "gpuType": "A100 80GB"
    },
    "kernelspec": {
      "display_name": "raul",
      "language": "python",
      "name": "python3"
    },
    "language_info": {
      "codemirror_mode": {
        "name": "ipython",
        "version": 3
      },
      "file_extension": ".py",
      "mimetype": "text/x-python",
      "name": "python",
      "nbconvert_exporter": "python",
      "pygments_lexer": "ipython3",
      "version": "3.13.2"
    },
    "accelerator": "GPU"
  },
  "nbformat": 4,
  "nbformat_minor": 5
}